{
 "cells": [
  {
   "cell_type": "code",
   "execution_count": 1,
   "id": "371b46d8-74d7-4950-a78c-67964c77b778",
   "metadata": {},
   "outputs": [],
   "source": [
    "#ANS-1 \n",
    "#API stands for Application Programming Interface. In the context of APIs,\n",
    "#the word Application refers to any software with a distinct function. Interface \n",
    "#can be thought of as a contract of service between two applications. This contract \n",
    "#defines how the two communicate with each other using requests and responses.\n",
    "#API examples\n",
    "#In practice, an API can be used to connect virtually any processes.\n",
    "#Here are a few common examples of APIs: Sharing flight information between \n",
    "#airlines and travel sites. Using Google Maps in a rideshare app.\n",
    "#Using Google pay for money transfer."
   ]
  },
  {
   "cell_type": "code",
   "execution_count": 2,
   "id": "22a3f706-ef54-47f1-8d03-28b380d8247a",
   "metadata": {},
   "outputs": [],
   "source": [
    "#Ans-2 The major benefit of using an API is accessing and consuming \n",
    "#data and services from thousands of independent sources.\n",
    "#This means organizations of all sizes can access these functionalities\n",
    "#without developing their own specialized applications.\n",
    "#Disadvantages:\n",
    "#Security Concerns: API infrastructures can be vulnerable to security\n",
    "#breaches, such as SQL injection attacks and cross-site scripting (XSS) attacks, \n",
    "#making it crucial to implement security measures to protect against these threats.\n",
    "#Complexity: APIs can be complex, requiring a significant amount of development effort \n",
    "#to implement and maintain."
   ]
  },
  {
   "cell_type": "code",
   "execution_count": 3,
   "id": "3921e8a4-d0de-4936-a0df-15c01006fb63",
   "metadata": {},
   "outputs": [],
   "source": [
    "#Ans-3 Web API as the name suggests, is an API over the web \n",
    "#which can be accessed using HTTP protocol. It is a concept \n",
    "#and not a technology. We can build Web API using different technologies \n",
    "#such as Java, .NET etc. For example, Twitter's REST APIs provide programmatic \n",
    "#access to read and write data using which we can integrate twitter's capabilities\n",
    "#into our own application.\n",
    "\n",
    "#In computer programming, an application programming interface (API) is a set\n",
    "#of subroutine definitions, protocols, and tools for building software and applications.\n",
    "#To put it in simple terms, API is some kind of interface which has\n",
    "#a set of functions that allow programmers to access specific features or data of an application,\n",
    "#operating system or other services.\n",
    "#Web API\n",
    "#A web API is a software that allows for the creation of apps and tools by external developers.\n",
    "#It does this by providing a set of functions and methods that can be called remotely over HTTP and HTTPS.\n",
    "#The idea behind web APIs is to enable third party developers to build applications on top of your service or product.\n",
    "#These applications might be mobile apps, websites, or desktop software."
   ]
  },
  {
   "cell_type": "code",
   "execution_count": 1,
   "id": "01036698-dd19-4914-8088-25aa75af3a37",
   "metadata": {},
   "outputs": [],
   "source": [
    "#Ans-4 REST is web standards based architecture and uses HTTP\n",
    "#Protocol. It revolves around resource where every component is a \n",
    "#resource and a resource is accessed by a common interface using HTTP standard methods.\n",
    "\n",
    "#The SOAP web services architecture is based on interactions\n",
    "#between three components: a service provider, a service requester,\n",
    "#and an optional service registry. \n",
    "\n",
    "#SHORTCOMINGS OF SOAP.\n",
    "#As SOAP can only transfer messages as XML files, your SOAP \n",
    "#API will be less performant, as XML is a verbose format compared \n",
    "#to JSON. API calls made to your server will need more bandwidth and \n",
    "#it will take more time to process the request and transfer the response \n",
    "#back to the client."
   ]
  },
  {
   "cell_type": "code",
   "execution_count": null,
   "id": "5484a62b-4c3e-479c-8c51-923016b7f54f",
   "metadata": {},
   "outputs": [],
   "source": [
    "#Ans-5\n",
    "                    #SOAP\t                          REST\n",
    "#Meaning\tSimple Object Access Protocol\t         Representational State Transfer\n",
    "\n",
    "#Design\t   Standardized protocol with    \t             Architectural style with loose\n",
    "#         pre-defined rules to follow.                 guidelines and recommendations.\n",
    "\n",
    "#Approach\tFunction-driven (data available as \t     Data-driven (data available as resources,\n",
    "            # services, e.g.: “getUser”)                 # e.g. “user”).\n",
    "    \n",
    "#Statefulness\tStateless by default, but it’s      \tStateless (no server-side sessions).\n",
    "                #possible to make a SOAP API stateful.\n",
    "    \n",
    "#Caching\tAPI calls cannot be cached.\t                     API calls can be cached.\n",
    "\n",
    "#Security\tWS-Security with SSL support.                \tSupports HTTPS and SSL\n",
    "              #Built-in ACID compliance."
   ]
  }
 ],
 "metadata": {
  "kernelspec": {
   "display_name": "Python 3 (ipykernel)",
   "language": "python",
   "name": "python3"
  },
  "language_info": {
   "codemirror_mode": {
    "name": "ipython",
    "version": 3
   },
   "file_extension": ".py",
   "mimetype": "text/x-python",
   "name": "python",
   "nbconvert_exporter": "python",
   "pygments_lexer": "ipython3",
   "version": "3.10.8"
  }
 },
 "nbformat": 4,
 "nbformat_minor": 5
}
